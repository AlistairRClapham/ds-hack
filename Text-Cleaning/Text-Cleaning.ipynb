{
 "cells": [
  {
   "cell_type": "code",
   "execution_count": 32,
   "metadata": {},
   "outputs": [],
   "source": [
    "#from nltk.corpus import stopwords\n",
    "#from nltk.tokenize import word_tokenize\n",
    "from collections import defaultdict\n"
   ]
  },
  {
   "cell_type": "code",
   "execution_count": 33,
   "metadata": {
    "scrolled": true
   },
   "outputs": [
    {
     "data": {
      "text/plain": [
       "<spacy.lang.en.English at 0x1855b501fd0>"
      ]
     },
     "execution_count": 33,
     "metadata": {},
     "output_type": "execute_result"
    }
   ],
   "source": [
    "import spacy\n",
    "spacy.load('en')"
   ]
  },
  {
   "cell_type": "code",
   "execution_count": 36,
   "metadata": {},
   "outputs": [
    {
     "name": "stdout",
     "output_type": "stream",
     "text": [
      "Mary had a little lamb called Mary.\n",
      "defaultdict(<class 'list'>, {'tokens': ['mary', 'little', 'lamb', 'call', 'mary'], 'Named Entity - PERSON': ['Mary', 'Mary']})\n",
      "mary\n",
      "little\n",
      "lamb\n",
      "call\n",
      "mary\n"
     ]
    }
   ],
   "source": [
    "def text_cleaner(text):\n",
    "    nlp = spacy.load('en', tagger=False, parser=False, matcher=False)\n",
    "    doc = nlp(text)\n",
    "\n",
    "    out_dict = defaultdict(list)\n",
    "\n",
    "    out_dict['tokens'] = [t.lemma_ for t in doc if not (t.is_stop or t.pos_ == \"PUNCT\") ]\n",
    "\n",
    "    for ent in doc.ents:\n",
    "        out_dict['Named Entity - '+ ent.label_].append(ent.text)\n",
    "\n",
    "    return out_dict \n",
    "\n",
    "text = \"Mary had a little lamb called Mary.\"\n",
    "\n",
    "out_dict = text_cleaner(text)\n",
    "\n",
    "print(text)\n",
    "print(out_dict)\n",
    "\n",
    "for t in out_dict['tokens']:\n",
    "    print(t)\n"
   ]
  }
 ],
 "metadata": {
  "kernelspec": {
   "display_name": "Python 3",
   "language": "python",
   "name": "python3"
  },
  "language_info": {
   "codemirror_mode": {
    "name": "ipython",
    "version": 3
   },
   "file_extension": ".py",
   "mimetype": "text/x-python",
   "name": "python",
   "nbconvert_exporter": "python",
   "pygments_lexer": "ipython3",
   "version": "3.6.4"
  }
 },
 "nbformat": 4,
 "nbformat_minor": 2
}
