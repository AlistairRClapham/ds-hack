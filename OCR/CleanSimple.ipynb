{
 "cells": [
  {
   "cell_type": "code",
   "execution_count": 9,
   "metadata": {},
   "outputs": [],
   "source": [
    "import time \n",
    "import requests\n",
    "import cv2\n",
    "import operator\n",
    "import numpy as np\n",
    "import os\n"
   ]
  },
  {
   "cell_type": "code",
   "execution_count": 10,
   "metadata": {},
   "outputs": [],
   "source": [
    "# Variables\n",
    "_url = 'https://eastus.api.cognitive.microsoft.com/vision/v1.0/ocr'\n",
    "_key = \"0205e6a47acb439b90f629bd8bd041e8\"  #Here you have to paste your primary key\n",
    "_maxNumRetries = 10"
   ]
  },
  {
   "cell_type": "code",
   "execution_count": 11,
   "metadata": {},
   "outputs": [],
   "source": [
    "def processRequest( json, data, headers, params ):\n",
    "\n",
    "    \"\"\"\n",
    "    Helper function to process the request to Project Oxford\n",
    "\n",
    "    Parameters:\n",
    "    json: Used when processing images from its URL. See API Documentation\n",
    "    data: Used when processing image read from disk. See API Documentation\n",
    "    headers: Used to pass the key information and the data type request\n",
    "    \"\"\"\n",
    "\n",
    "    retries = 0\n",
    "    result = None\n",
    "\n",
    "    while True:\n",
    "        response = requests.request( 'post', _url, json = json, data = data, headers = headers, params = params )\n",
    "\n",
    "        if response.status_code == 429:\n",
    "            print( \"Message: %s\" % ( response.json() ) )\n",
    "            if retries <= _maxNumRetries: \n",
    "                time.sleep(1) \n",
    "                retries += 1\n",
    "                continue\n",
    "            else: \n",
    "                print( 'Error: failed after retrying!' )\n",
    "                break\n",
    "        elif response.status_code == 202:\n",
    "            result = response.headers['Operation-Location']\n",
    "        else:\n",
    "            print( \"Error code: %d\" % ( response.status_code ) )\n",
    "            print( \"Message: %s\" % ( response.json() ) )\n",
    "        break\n",
    "        \n",
    "    return result"
   ]
  },
  {
   "cell_type": "code",
   "execution_count": 14,
   "metadata": {},
   "outputs": [
    {
     "name": "stdout",
     "output_type": "stream",
     "text": [
      "Error code: 200\n",
      "Message: {'language': 'en', 'orientation': 'Up', 'textAngle': 0.0, 'regions': [{'boundingBox': '209,237,1552,1141', 'lines': [{'boundingBox': '581,237,819,25', 'words': [{'boundingBox': '581,237,131,24', 'text': 'HOLMES'}, {'boundingBox': '724,237,20,24', 'text': '&'}, {'boundingBox': '755,237,177,24', 'text': 'MARCHANT'}, {'boundingBox': '943,237,195,25', 'text': 'CORPORATE'}, {'boundingBox': '1150,238,114,23', 'text': 'DESIGN'}, {'boundingBox': '1277,237,123,24', 'text': 'LIMITED'}]}, {'boundingBox': '827,364,328,25', 'words': [{'boundingBox': '827,364,190,25', 'text': \"DIRECTORS'\"}, {'boundingBox': '1028,365,127,24', 'text': 'REPORT'}]}, {'boundingBox': '663,400,655,25', 'words': [{'boundingBox': '663,400,65,24', 'text': 'FOR'}, {'boundingBox': '737,400,62,24', 'text': 'THE'}, {'boundingBox': '807,400,87,23', 'text': 'YEAR'}, {'boundingBox': '905,400,106,25', 'text': 'ENDED'}, {'boundingBox': '1022,402,29,23', 'text': '31'}, {'boundingBox': '1066,400,175,25', 'text': 'DECEMBER'}, {'boundingBox': '1250,401,68,23', 'text': '2015'}]}, {'boundingBox': '212,509,1391,31', 'words': [{'boundingBox': '212,510,52,24', 'text': 'The'}, {'boundingBox': '274,510,119,23', 'text': 'directors'}, {'boundingBox': '403,510,104,28', 'text': 'present'}, {'boundingBox': '517,509,60,24', 'text': 'their'}, {'boundingBox': '586,511,81,28', 'text': 'report'}, {'boundingBox': '676,510,51,24', 'text': 'and'}, {'boundingBox': '737,510,42,24', 'text': 'the'}, {'boundingBox': '788,509,113,24', 'text': 'financial'}, {'boundingBox': '912,511,152,23', 'text': 'statements'}, {'boundingBox': '1073,510,38,24', 'text': 'for'}, {'boundingBox': '1118,510,43,24', 'text': 'the'}, {'boundingBox': '1170,516,60,24', 'text': 'year'}, {'boundingBox': '1239,510,83,24', 'text': 'ended'}, {'boundingBox': '1334,510,28,24', 'text': '31'}, {'boundingBox': '1377,510,143,24', 'text': 'December'}, {'boundingBox': '1528,510,75,23', 'text': '2015.'}]}, {'boundingBox': '213,580,246,29', 'words': [{'boundingBox': '213,580,128,29', 'text': 'Principal'}, {'boundingBox': '352,580,107,29', 'text': 'activity'}]}, {'boundingBox': '211,650,1550,30', 'words': [{'boundingBox': '211,651,53,23', 'text': 'The'}, {'boundingBox': '282,650,133,30', 'text': 'Company'}, {'boundingBox': '432,650,48,24', 'text': 'has'}, {'boundingBox': '499,650,67,24', 'text': 'been'}, {'boundingBox': '583,651,115,24', 'text': 'dormant'}, {'boundingBox': '714,651,148,29', 'text': 'throughout'}, {'boundingBox': '879,651,42,23', 'text': 'the'}, {'boundingBox': '938,657,60,23', 'text': 'year'}, {'boundingBox': '1014,651,84,23', 'text': 'ended'}, {'boundingBox': '1115,651,29,24', 'text': '31'}, {'boundingBox': '1166,651,143,23', 'text': 'December'}, {'boundingBox': '1325,651,75,24', 'text': '2015.'}, {'boundingBox': '1419,651,16,24', 'text': 'It'}, {'boundingBox': '1452,651,20,24', 'text': 'is'}, {'boundingBox': '1489,651,146,29', 'text': 'anticipated'}, {'boundingBox': '1652,650,51,24', 'text': 'that'}, {'boundingBox': '1719,651,42,24', 'text': 'the'}]}, {'boundingBox': '212,685,777,29', 'words': [{'boundingBox': '212,685,133,29', 'text': 'Company'}, {'boundingBox': '352,685,41,24', 'text': 'will'}, {'boundingBox': '405,685,93,24', 'text': 'remain'}, {'boundingBox': '509,685,115,25', 'text': 'dormant'}, {'boundingBox': '632,685,38,25', 'text': 'for'}, {'boundingBox': '678,685,43,25', 'text': 'the'}, {'boundingBox': '729,685,164,25', 'text': 'foreseeable'}, {'boundingBox': '902,685,87,25', 'text': 'future.'}]}, {'boundingBox': '213,756,133,23', 'words': [{'boundingBox': '213,756,133,23', 'text': 'Directors'}]}, {'boundingBox': '211,825,649,30', 'words': [{'boundingBox': '211,825,53,24', 'text': 'The'}, {'boundingBox': '273,825,120,24', 'text': 'directors'}, {'boundingBox': '402,825,57,24', 'text': 'who'}, {'boundingBox': '469,826,91,23', 'text': 'served'}, {'boundingBox': '571,826,84,29', 'text': 'during'}, {'boundingBox': '666,825,43,24', 'text': 'the'}, {'boundingBox': '718,831,60,24', 'text': 'year'}, {'boundingBox': '785,831,75,18', 'text': 'were:'}]}, {'boundingBox': '211,894,820,31', 'words': [{'boundingBox': '211,895,20,23', 'text': 'A'}, {'boundingBox': '240,895,13,23', 'text': 'J'}, {'boundingBox': '265,894,89,24', 'text': 'Clarke'}, {'boundingBox': '364,894,146,30', 'text': '(appointed'}, {'boundingBox': '522,895,15,23', 'text': '7'}, {'boundingBox': '546,895,60,29', 'text': 'April'}, {'boundingBox': '617,896,75,27', 'text': '2015,'}, {'boundingBox': '704,895,118,29', 'text': 'resigned'}, {'boundingBox': '834,895,32,23', 'text': '14'}, {'boundingBox': '875,895,67,24', 'text': 'June'}, {'boundingBox': '953,895,78,30', 'text': '2015)'}]}, {'boundingBox': '212,930,136,23', 'words': [{'boundingBox': '212,931,22,22', 'text': 'M'}, {'boundingBox': '245,930,103,23', 'text': 'Morrow'}]}, {'boundingBox': '212,965,477,29', 'words': [{'boundingBox': '212,965,20,23', 'text': 'R'}, {'boundingBox': '241,965,20,23', 'text': 'A'}, {'boundingBox': '271,965,84,24', 'text': 'Horne'}, {'boundingBox': '365,965,145,29', 'text': '(appointed'}, {'boundingBox': '523,966,9,22', 'text': '1'}, {'boundingBox': '547,966,54,28', 'text': 'July'}, {'boundingBox': '610,965,79,29', 'text': '2015)'}]}, {'boundingBox': '212,999,559,30', 'words': [{'boundingBox': '212,999,58,24', 'text': 'Lord'}, {'boundingBox': '281,999,165,30', 'text': 'Chadlington'}, {'boundingBox': '457,999,128,30', 'text': '(resigned'}, {'boundingBox': '596,1001,16,22', 'text': '7'}, {'boundingBox': '621,1000,61,29', 'text': 'April'}, {'boundingBox': '692,999,79,30', 'text': '2015)'}]}, {'boundingBox': '211,1069,395,29', 'words': [{'boundingBox': '211,1069,132,29', 'text': 'Strategic'}, {'boundingBox': '353,1071,90,27', 'text': 'report'}, {'boundingBox': '451,1070,155,28', 'text': 'exemption'}]}, {'boundingBox': '210,1139,1551,31', 'words': [{'boundingBox': '210,1140,86,23', 'text': 'These'}, {'boundingBox': '308,1141,124,22', 'text': 'accounts'}, {'boundingBox': '445,1139,50,24', 'text': 'and'}, {'boundingBox': '507,1139,48,24', 'text': 'this'}, {'boundingBox': '568,1140,129,23', 'text': \"Director's\"}, {'boundingBox': '710,1140,80,29', 'text': 'report'}, {'boundingBox': '803,1140,65,23', 'text': 'have'}, {'boundingBox': '881,1140,65,23', 'text': 'been'}, {'boundingBox': '959,1140,122,30', 'text': 'prepared'}, {'boundingBox': '1094,1140,21,23', 'text': 'in'}, {'boundingBox': '1128,1140,160,23', 'text': 'accordance'}, {'boundingBox': '1298,1141,54,22', 'text': 'with'}, {'boundingBox': '1364,1140,42,24', 'text': 'the'}, {'boundingBox': '1417,1140,72,23', 'text': 'small'}, {'boundingBox': '1500,1140,155,29', 'text': \"companies'\"}, {'boundingBox': '1668,1140,93,29', 'text': 'regime'}]}, {'boundingBox': '211,1173,1549,30', 'words': [{'boundingBox': '211,1173,49,24', 'text': 'and'}, {'boundingBox': '274,1179,45,18', 'text': 'are'}, {'boundingBox': '333,1174,125,23', 'text': 'therefore'}, {'boundingBox': '472,1174,98,24', 'text': 'entitled'}, {'boundingBox': '584,1176,26,21', 'text': 'to'}, {'boundingBox': '624,1174,49,29', 'text': 'rely'}, {'boundingBox': '685,1180,33,17', 'text': 'on'}, {'boundingBox': '732,1174,43,23', 'text': 'the'}, {'boundingBox': '788,1174,144,28', 'text': 'exemption'}, {'boundingBox': '947,1174,116,29', 'text': 'provided'}, {'boundingBox': '1079,1174,32,29', 'text': 'by'}, {'boundingBox': '1122,1173,130,30', 'text': 'S414A(2)'}, {'boundingBox': '1278,1173,27,24', 'text': 'of'}, {'boundingBox': '1317,1174,43,24', 'text': 'the'}, {'boundingBox': '1373,1174,156,29', 'text': 'Companies'}, {'boundingBox': '1542,1174,45,23', 'text': 'Act'}, {'boundingBox': '1600,1174,67,23', 'text': '2006'}, {'boundingBox': '1682,1176,41,22', 'text': 'not'}, {'boundingBox': '1736,1176,24,21', 'text': 'to'}]}, {'boundingBox': '212,1209,832,30', 'words': [{'boundingBox': '212,1215,105,23', 'text': 'prepare'}, {'boundingBox': '327,1215,16,18', 'text': 'a'}, {'boundingBox': '353,1209,118,30', 'text': 'strategic'}, {'boundingBox': '481,1211,80,27', 'text': 'report'}, {'boundingBox': '570,1209,36,24', 'text': 'for'}, {'boundingBox': '616,1209,42,24', 'text': 'the'}, {'boundingBox': '667,1209,113,24', 'text': 'financial'}, {'boundingBox': '791,1215,59,24', 'text': 'year'}, {'boundingBox': '860,1209,79,24', 'text': 'under'}, {'boundingBox': '949,1210,95,23', 'text': 'review.'}]}, {'boundingBox': '211,1278,389,24', 'words': [{'boundingBox': '211,1279,65,23', 'text': 'Post'}, {'boundingBox': '288,1278,114,24', 'text': 'balance'}, {'boundingBox': '412,1279,81,23', 'text': 'sheet'}, {'boundingBox': '502,1281,98,21', 'text': 'events'}]}, {'boundingBox': '209,1349,1116,29', 'words': [{'boundingBox': '209,1349,82,23', 'text': 'There'}, {'boundingBox': '301,1349,65,23', 'text': 'have'}, {'boundingBox': '377,1349,67,23', 'text': 'been'}, {'boundingBox': '456,1354,32,18', 'text': 'no'}, {'boundingBox': '498,1349,138,28', 'text': 'significant'}, {'boundingBox': '646,1350,90,23', 'text': 'events'}, {'boundingBox': '746,1349,116,28', 'text': 'affecting'}, {'boundingBox': '873,1349,42,23', 'text': 'the'}, {'boundingBox': '926,1349,133,29', 'text': 'Company'}, {'boundingBox': '1067,1349,71,24', 'text': 'since'}, {'boundingBox': '1147,1349,42,24', 'text': 'the'}, {'boundingBox': '1199,1354,60,23', 'text': 'year'}, {'boundingBox': '1267,1349,58,24', 'text': 'end.'}]}]}, {'boundingBox': '209,1476,840,258', 'lines': [{'boundingBox': '209,1476,840,41', 'words': [{'boundingBox': '209,1487,58,24', 'text': 'This'}, {'boundingBox': '278,1489,81,27', 'text': 'report'}, {'boundingBox': '367,1493,55,17', 'text': 'was'}, {'boundingBox': '433,1488,128,28', 'text': 'approved'}, {'boundingBox': '573,1488,30,29', 'text': 'by'}, {'boundingBox': '611,1488,43,23', 'text': 'the'}, {'boundingBox': '664,1488,77,23', 'text': 'board'}, {'boundingBox': '752,1493,32,18', 'text': 'on'}, {'boundingBox': '822,1479,22,30', 'text': 'B'}, {'boundingBox': '863,1476,99,33', 'text': 'Odober'}, {'boundingBox': '986,1477,44,32', 'text': '101'}, {'boundingBox': '1039,1482,10,26', 'text': '('}]}, {'boundingBox': '211,1675,147,24', 'words': [{'boundingBox': '211,1675,23,23', 'text': 'M'}, {'boundingBox': '245,1675,113,24', 'text': 'Morrow'}]}, {'boundingBox': '210,1710,108,24', 'words': [{'boundingBox': '210,1710,108,24', 'text': 'Director'}]}]}, {'boundingBox': '1295,1487,458,1046', 'lines': [{'boundingBox': '1295,1487,332,30', 'words': [{'boundingBox': '1295,1488,49,23', 'text': 'and'}, {'boundingBox': '1356,1488,88,29', 'text': 'signed'}, {'boundingBox': '1455,1494,33,17', 'text': 'on'}, {'boundingBox': '1499,1488,28,23', 'text': 'its'}, {'boundingBox': '1539,1487,88,24', 'text': 'behalf.'}]}, {'boundingBox': '1663,2503,90,30', 'words': [{'boundingBox': '1663,2503,69,30', 'text': 'Page'}, {'boundingBox': '1744,2505,9,22', 'text': '1'}]}]}]}\n"
     ]
    }
   ],
   "source": [
    "# Load raw image file into memory\n",
    "pathToFileInDisk = r'C:/Users/virtualmachine2/cog_vision/01883182_accounts_2015-12-31-4.jpg'\n",
    "with open(pathToFileInDisk, 'rb') as f:\n",
    "    data = f.read()\n",
    "\n",
    "# Computer Vision parameters\n",
    "params = {'handwriting' : 'true'}\n",
    "\n",
    "headers = dict()\n",
    "headers['Ocp-Apim-Subscription-Key'] = _key\n",
    "headers['Content-Type'] = 'application/octet-stream'\n",
    "\n",
    "json = None\n",
    "\n",
    "operationLocation = processRequest(json, data, headers, params)\n"
   ]
  },
  {
   "cell_type": "code",
   "execution_count": 15,
   "metadata": {},
   "outputs": [],
   "source": [
    "operationLocation"
   ]
  },
  {
   "cell_type": "code",
   "execution_count": 7,
   "metadata": {},
   "outputs": [],
   "source": []
  },
  {
   "cell_type": "code",
   "execution_count": 8,
   "metadata": {},
   "outputs": [],
   "source": []
  },
  {
   "cell_type": "code",
   "execution_count": null,
   "metadata": {},
   "outputs": [],
   "source": []
  }
 ],
 "metadata": {
  "kernelspec": {
   "display_name": "Python [default]",
   "language": "python",
   "name": "python3"
  },
  "language_info": {
   "codemirror_mode": {
    "name": "ipython",
    "version": 3
   },
   "file_extension": ".py",
   "mimetype": "text/x-python",
   "name": "python",
   "nbconvert_exporter": "python",
   "pygments_lexer": "ipython3",
   "version": "3.6.3"
  }
 },
 "nbformat": 4,
 "nbformat_minor": 2
}
